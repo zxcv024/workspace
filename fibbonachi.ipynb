{
  "nbformat": 4,
  "nbformat_minor": 0,
  "metadata": {
    "colab": {
      "name": "Untitled0.ipynb",
      "provenance": [],
      "collapsed_sections": [],
      "authorship_tag": "ABX9TyP9gwpgcd8WpRyt8Ne5g1Y+",
      "include_colab_link": true
    },
    "kernelspec": {
      "name": "python3",
      "display_name": "Python 3"
    },
    "language_info": {
      "name": "python"
    }
  },
  "cells": [
    {
      "cell_type": "markdown",
      "metadata": {
        "id": "view-in-github",
        "colab_type": "text"
      },
      "source": [
        "<a href=\"https://colab.research.google.com/github/zxcv024/workspace/blob/master/fibbonachi.ipynb\" target=\"_parent\"><img src=\"https://colab.research.google.com/assets/colab-badge.svg\" alt=\"Open In Colab\"/></a>"
      ]
    },
    {
      "cell_type": "code",
      "metadata": {
        "colab": {
          "base_uri": "https://localhost:8080/"
        },
        "id": "RYcyKLblCUy7",
        "outputId": "376cad1c-95ee-452e-973a-a0b6896c37e5"
      },
      "source": [
        "n = int(input('수열의 길이를 입력하세요'))\n",
        "\n",
        "def fibbo(j):\n",
        "  fibo = [0,1]\n",
        "  if j == 0:\n",
        "    return 0\n",
        "  elif j == 1:\n",
        "    return 0\n",
        "  elif j == 2:\n",
        "    return fibo\n",
        "  elif j>2:\n",
        "    for i in range(j):\n",
        "      fibo.append(fibo[i]+fibo[i+1])\n",
        "    return fibo[:j]\n",
        "\n",
        "print(fibbo(n))"
      ],
      "execution_count": 28,
      "outputs": [
        {
          "output_type": "stream",
          "text": [
            "수열의 길이를 입력하세요5\n",
            "[0, 1, 1, 2, 3]\n"
          ],
          "name": "stdout"
        }
      ]
    }
  ]
}